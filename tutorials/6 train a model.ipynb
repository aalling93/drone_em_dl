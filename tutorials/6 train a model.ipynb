{
 "cells": [
  {
   "cell_type": "code",
   "execution_count": 4,
   "metadata": {},
   "outputs": [],
   "source": [
    "import sys, os\n",
    "sys.path.append('..')\n",
    "\n",
    "from src.drone_em_dl import *\n",
    "\n",
    "\n",
    "from datetime import datetime\n",
    "import tensorflow as tf\n",
    "\n",
    "from clearml import Task"
   ]
  },
  {
   "cell_type": "code",
   "execution_count": 6,
   "metadata": {},
   "outputs": [],
   "source": [
    "data = data.Data()\n",
    "data.load_data('../data/raw/falster_data_Kristian.csv')\n",
    "data.get_features([11,12,13,22,23,24,25,26,27,28,29,30,31]) #[1,2,3,4,5,6,7,8,9,10,11,12,13,14]  #[1,2,3,4,5,6,7,11,12,13,14,17,18,19,20,21,22,23,24,25,26,27,28,29,30,31]\n",
    "data.train_test_split(split=0.8)\n",
    "data.norm_data()"
   ]
  },
  {
   "cell_type": "code",
   "execution_count": 8,
   "metadata": {},
   "outputs": [
    {
     "name": "stdout",
     "output_type": "stream",
     "text": [
      "ClearML Task: created new task id=e6869093c3054370aaea2b279490bf0a\n",
      "2023-04-07 18:22:31,355 - clearml.Task - INFO - Storing jupyter notebook directly as code\n",
      "ClearML results page: https://app.clear.ml/projects/d2611671b215498fb9b50456c1357c66/experiments/e6869093c3054370aaea2b279490bf0a/output/log\n"
     ]
    },
    {
     "name": "stdout",
     "output_type": "stream",
     "text": [
      "ClearML Monitor: GPU monitoring failed getting GPU reading, switching off GPU monitoring\n"
     ]
    }
   ],
   "source": [
    "task = Task.init(project_name=\"Drone_em_dl\", task_name=f\"Drone_em_dl_test2\")\n"
   ]
  },
  {
   "cell_type": "code",
   "execution_count": 9,
   "metadata": {},
   "outputs": [
    {
     "name": "stderr",
     "output_type": "stream",
     "text": [
      "2023-04-07 18:22:59.384688: I tensorflow/core/common_runtime/pluggable_device/pluggable_device_factory.cc:305] Could not identify NUMA node of platform GPU ID 0, defaulting to 0. Your kernel may not have been built with NUMA support.\n",
      "2023-04-07 18:22:59.384851: I tensorflow/core/common_runtime/pluggable_device/pluggable_device_factory.cc:271] Created TensorFlow device (/job:localhost/replica:0/task:0/device:GPU:0 with 0 MB memory) -> physical PluggableDevice (device: 0, name: METAL, pci bus id: <undefined>)\n"
     ]
    },
    {
     "name": "stdout",
     "output_type": "stream",
     "text": [
      "Metal device set to: Apple M1 Max\n",
      "\n",
      "systemMemory: 64.00 GB\n",
      "maxCacheSize: 24.00 GB\n",
      "\n"
     ]
    }
   ],
   "source": [
    "\n",
    "with Fae() as ae:\n",
    "    ae = ae.make_model(\n",
    "            input_size=data.norm_data.norm_train[0].shape,\n",
    "            latent_space_dim=3,\n",
    "            dense_neurons=[128,128,128,128,128,56,56,28,28],\n",
    "            dropout_prob=0.1,\n",
    "            name='test',\n",
    "        )\n"
   ]
  },
  {
   "cell_type": "code",
   "execution_count": 10,
   "metadata": {},
   "outputs": [
    {
     "name": "stdout",
     "output_type": "stream",
     "text": [
      "Model: \"test\"\n",
      "_________________________________________________________________\n",
      " Layer (type)                Output Shape              Param #   \n",
      "=================================================================\n",
      " AE_input (InputLayer)       [(None, 13)]              0         \n",
      "                                                                 \n",
      " encoder_model (Functional)  (None, 3)                 167978    \n",
      "                                                                 \n",
      " decoder_model (Functional)  (None, 13)                83993     \n",
      "                                                                 \n",
      "=================================================================\n",
      "Total params: 251,971\n",
      "Trainable params: 247,123\n",
      "Non-trainable params: 4,848\n",
      "_________________________________________________________________\n"
     ]
    }
   ],
   "source": [
    "ae.summary()"
   ]
  },
  {
   "cell_type": "code",
   "execution_count": 11,
   "metadata": {},
   "outputs": [
    {
     "name": "stderr",
     "output_type": "stream",
     "text": [
      "2023-04-07 18:23:12.602594: I tensorflow/core/profiler/lib/profiler_session.cc:110] Profiler session initializing.\n",
      "2023-04-07 18:23:12.602611: I tensorflow/core/profiler/lib/profiler_session.cc:125] Profiler session started.\n",
      "2023-04-07 18:23:12.602792: I tensorflow/core/profiler/lib/profiler_session.cc:143] Profiler session tear down.\n"
     ]
    }
   ],
   "source": [
    "callbacks = get_callbacks(ae)"
   ]
  },
  {
   "cell_type": "code",
   "execution_count": 12,
   "metadata": {},
   "outputs": [
    {
     "name": "stdout",
     "output_type": "stream",
     "text": [
      "Epoch 1/100\n"
     ]
    },
    {
     "name": "stderr",
     "output_type": "stream",
     "text": [
      "2023-04-07 18:23:33.313600: W tensorflow/core/platform/profile_utils/cpu_utils.cc:128] Failed to get CPU frequency: 0 Hz\n"
     ]
    },
    {
     "ename": "InvalidArgumentError",
     "evalue": "Cannot assign a device for operation test/encoder_model/encoder2_dense_1/MatMul/ReadVariableOp: Could not satisfy explicit device specification '' because the node {{colocation_node test/encoder_model/encoder2_dense_1/MatMul/ReadVariableOp}} was colocated with a group of nodes that required incompatible device '/job:localhost/replica:0/task:0/device:GPU:0'. All available devices [/job:localhost/replica:0/task:0/device:CPU:0, /job:localhost/replica:0/task:0/device:GPU:0]. \nColocation Debug Info:\nColocation group had the following types and supported devices: \nRoot Member(assigned_device_name_index_=2 requested_device_name_='/job:localhost/replica:0/task:0/device:GPU:0' assigned_device_name_='/job:localhost/replica:0/task:0/device:GPU:0' resource_device_name_='/job:localhost/replica:0/task:0/device:GPU:0' supported_device_types_=[CPU] possible_devices_=[]\nResourceApplyAdamWithAmsgrad: CPU \nReadVariableOp: GPU CPU \n_Arg: GPU CPU \n\nColocation members, user-requested devices, and framework assigned devices, if any:\n  test_encoder_model_encoder2_dense_1_matmul_readvariableop_resource (_Arg)  framework assigned device=/job:localhost/replica:0/task:0/device:GPU:0\n  adam_adam_update_2_resourceapplyadamwithamsgrad_m (_Arg)  framework assigned device=/job:localhost/replica:0/task:0/device:GPU:0\n  adam_adam_update_2_resourceapplyadamwithamsgrad_v (_Arg)  framework assigned device=/job:localhost/replica:0/task:0/device:GPU:0\n  adam_adam_update_2_resourceapplyadamwithamsgrad_vhat (_Arg)  framework assigned device=/job:localhost/replica:0/task:0/device:GPU:0\n  test/encoder_model/encoder2_dense_1/MatMul/ReadVariableOp (ReadVariableOp) \n  Adam/Adam/update_2/ResourceApplyAdamWithAmsgrad (ResourceApplyAdamWithAmsgrad) /job:localhost/replica:0/task:0/device:GPU:0\n\n\t [[{{node test/encoder_model/encoder2_dense_1/MatMul/ReadVariableOp}}]] [Op:__inference_train_function_18100]",
     "output_type": "error",
     "traceback": [
      "\u001b[0;31m---------------------------------------------------------------------------\u001b[0m",
      "\u001b[0;31mInvalidArgumentError\u001b[0m                      Traceback (most recent call last)",
      "\u001b[1;32m/Users/kaaso/Documents/phd/Tobias/drone_em_dl/tutorials/6 train a model.ipynb Cell 7\u001b[0m in \u001b[0;36m<module>\u001b[0;34m\u001b[0m\n\u001b[0;32m----> <a href='vscode-notebook-cell:/Users/kaaso/Documents/phd/Tobias/drone_em_dl/tutorials/6%20train%20a%20model.ipynb#W4sZmlsZQ%3D%3D?line=0'>1</a>\u001b[0m model_fit(\n\u001b[1;32m      <a href='vscode-notebook-cell:/Users/kaaso/Documents/phd/Tobias/drone_em_dl/tutorials/6%20train%20a%20model.ipynb#W4sZmlsZQ%3D%3D?line=1'>2</a>\u001b[0m         ae,\n\u001b[1;32m      <a href='vscode-notebook-cell:/Users/kaaso/Documents/phd/Tobias/drone_em_dl/tutorials/6%20train%20a%20model.ipynb#W4sZmlsZQ%3D%3D?line=2'>3</a>\u001b[0m         data\u001b[39m.\u001b[39;49mnorm_data\u001b[39m.\u001b[39;49mnorm_train,\n\u001b[1;32m      <a href='vscode-notebook-cell:/Users/kaaso/Documents/phd/Tobias/drone_em_dl/tutorials/6%20train%20a%20model.ipynb#W4sZmlsZQ%3D%3D?line=3'>4</a>\u001b[0m         data\u001b[39m.\u001b[39;49mnorm_data\u001b[39m.\u001b[39;49mnorm_train,\n\u001b[1;32m      <a href='vscode-notebook-cell:/Users/kaaso/Documents/phd/Tobias/drone_em_dl/tutorials/6%20train%20a%20model.ipynb#W4sZmlsZQ%3D%3D?line=4'>5</a>\u001b[0m         batch_size\u001b[39m=\u001b[39;49m\u001b[39m200\u001b[39;49m,\n\u001b[1;32m      <a href='vscode-notebook-cell:/Users/kaaso/Documents/phd/Tobias/drone_em_dl/tutorials/6%20train%20a%20model.ipynb#W4sZmlsZQ%3D%3D?line=5'>6</a>\u001b[0m         epochs\u001b[39m=\u001b[39;49m\u001b[39m100\u001b[39;49m,\n\u001b[1;32m      <a href='vscode-notebook-cell:/Users/kaaso/Documents/phd/Tobias/drone_em_dl/tutorials/6%20train%20a%20model.ipynb#W4sZmlsZQ%3D%3D?line=6'>7</a>\u001b[0m         verbose\u001b[39m=\u001b[39;49m\u001b[39m1\u001b[39;49m,\n\u001b[1;32m      <a href='vscode-notebook-cell:/Users/kaaso/Documents/phd/Tobias/drone_em_dl/tutorials/6%20train%20a%20model.ipynb#W4sZmlsZQ%3D%3D?line=7'>8</a>\u001b[0m         callbacks\u001b[39m=\u001b[39;49mcallbacks,\n\u001b[1;32m      <a href='vscode-notebook-cell:/Users/kaaso/Documents/phd/Tobias/drone_em_dl/tutorials/6%20train%20a%20model.ipynb#W4sZmlsZQ%3D%3D?line=8'>9</a>\u001b[0m )\n",
      "File \u001b[0;32m~/Documents/phd/Tobias/drone_em_dl/tutorials/../src/drone_em_dl/models/util.py:125\u001b[0m, in \u001b[0;36mmodel_fit\u001b[0;34m(model, X_train, X_val, batch_size, epochs, verbose, callbacks)\u001b[0m\n\u001b[1;32m    116\u001b[0m \u001b[39mdef\u001b[39;00m \u001b[39mmodel_fit\u001b[39m(\n\u001b[1;32m    117\u001b[0m     model,\n\u001b[1;32m    118\u001b[0m     X_train,\n\u001b[0;32m   (...)\u001b[0m\n\u001b[1;32m    123\u001b[0m     callbacks: \u001b[39mlist\u001b[39m \u001b[39m=\u001b[39m [],\n\u001b[1;32m    124\u001b[0m ):\n\u001b[0;32m--> 125\u001b[0m     training_history \u001b[39m=\u001b[39m model\u001b[39m.\u001b[39;49mfit(\n\u001b[1;32m    126\u001b[0m         X_train,\n\u001b[1;32m    127\u001b[0m         X_train,\n\u001b[1;32m    128\u001b[0m         validation_data\u001b[39m=\u001b[39;49m(X_val, X_val),\n\u001b[1;32m    129\u001b[0m         epochs\u001b[39m=\u001b[39;49mepochs,\n\u001b[1;32m    130\u001b[0m         verbose\u001b[39m=\u001b[39;49mverbose,\n\u001b[1;32m    131\u001b[0m         shuffle\u001b[39m=\u001b[39;49m\u001b[39mTrue\u001b[39;49;00m,\n\u001b[1;32m    132\u001b[0m         batch_size\u001b[39m=\u001b[39;49mbatch_size,\n\u001b[1;32m    133\u001b[0m         callbacks\u001b[39m=\u001b[39;49mcallbacks,\n\u001b[1;32m    134\u001b[0m     )\n",
      "File \u001b[0;32m/opt/homebrew/Caskroom/miniforge/base/envs/env_tf/lib/python3.9/site-packages/keras/utils/traceback_utils.py:67\u001b[0m, in \u001b[0;36mfilter_traceback.<locals>.error_handler\u001b[0;34m(*args, **kwargs)\u001b[0m\n\u001b[1;32m     65\u001b[0m \u001b[39mexcept\u001b[39;00m \u001b[39mException\u001b[39;00m \u001b[39mas\u001b[39;00m e:  \u001b[39m# pylint: disable=broad-except\u001b[39;00m\n\u001b[1;32m     66\u001b[0m   filtered_tb \u001b[39m=\u001b[39m _process_traceback_frames(e\u001b[39m.\u001b[39m__traceback__)\n\u001b[0;32m---> 67\u001b[0m   \u001b[39mraise\u001b[39;00m e\u001b[39m.\u001b[39mwith_traceback(filtered_tb) \u001b[39mfrom\u001b[39;00m \u001b[39mNone\u001b[39m\n\u001b[1;32m     68\u001b[0m \u001b[39mfinally\u001b[39;00m:\n\u001b[1;32m     69\u001b[0m   \u001b[39mdel\u001b[39;00m filtered_tb\n",
      "File \u001b[0;32m/opt/homebrew/Caskroom/miniforge/base/envs/env_tf/lib/python3.9/site-packages/tensorflow/python/eager/execute.py:54\u001b[0m, in \u001b[0;36mquick_execute\u001b[0;34m(op_name, num_outputs, inputs, attrs, ctx, name)\u001b[0m\n\u001b[1;32m     52\u001b[0m \u001b[39mtry\u001b[39;00m:\n\u001b[1;32m     53\u001b[0m   ctx\u001b[39m.\u001b[39mensure_initialized()\n\u001b[0;32m---> 54\u001b[0m   tensors \u001b[39m=\u001b[39m pywrap_tfe\u001b[39m.\u001b[39mTFE_Py_Execute(ctx\u001b[39m.\u001b[39m_handle, device_name, op_name,\n\u001b[1;32m     55\u001b[0m                                       inputs, attrs, num_outputs)\n\u001b[1;32m     56\u001b[0m \u001b[39mexcept\u001b[39;00m core\u001b[39m.\u001b[39m_NotOkStatusException \u001b[39mas\u001b[39;00m e:\n\u001b[1;32m     57\u001b[0m   \u001b[39mif\u001b[39;00m name \u001b[39mis\u001b[39;00m \u001b[39mnot\u001b[39;00m \u001b[39mNone\u001b[39;00m:\n",
      "\u001b[0;31mInvalidArgumentError\u001b[0m: Cannot assign a device for operation test/encoder_model/encoder2_dense_1/MatMul/ReadVariableOp: Could not satisfy explicit device specification '' because the node {{colocation_node test/encoder_model/encoder2_dense_1/MatMul/ReadVariableOp}} was colocated with a group of nodes that required incompatible device '/job:localhost/replica:0/task:0/device:GPU:0'. All available devices [/job:localhost/replica:0/task:0/device:CPU:0, /job:localhost/replica:0/task:0/device:GPU:0]. \nColocation Debug Info:\nColocation group had the following types and supported devices: \nRoot Member(assigned_device_name_index_=2 requested_device_name_='/job:localhost/replica:0/task:0/device:GPU:0' assigned_device_name_='/job:localhost/replica:0/task:0/device:GPU:0' resource_device_name_='/job:localhost/replica:0/task:0/device:GPU:0' supported_device_types_=[CPU] possible_devices_=[]\nResourceApplyAdamWithAmsgrad: CPU \nReadVariableOp: GPU CPU \n_Arg: GPU CPU \n\nColocation members, user-requested devices, and framework assigned devices, if any:\n  test_encoder_model_encoder2_dense_1_matmul_readvariableop_resource (_Arg)  framework assigned device=/job:localhost/replica:0/task:0/device:GPU:0\n  adam_adam_update_2_resourceapplyadamwithamsgrad_m (_Arg)  framework assigned device=/job:localhost/replica:0/task:0/device:GPU:0\n  adam_adam_update_2_resourceapplyadamwithamsgrad_v (_Arg)  framework assigned device=/job:localhost/replica:0/task:0/device:GPU:0\n  adam_adam_update_2_resourceapplyadamwithamsgrad_vhat (_Arg)  framework assigned device=/job:localhost/replica:0/task:0/device:GPU:0\n  test/encoder_model/encoder2_dense_1/MatMul/ReadVariableOp (ReadVariableOp) \n  Adam/Adam/update_2/ResourceApplyAdamWithAmsgrad (ResourceApplyAdamWithAmsgrad) /job:localhost/replica:0/task:0/device:GPU:0\n\n\t [[{{node test/encoder_model/encoder2_dense_1/MatMul/ReadVariableOp}}]] [Op:__inference_train_function_18100]"
     ]
    }
   ],
   "source": [
    "\n",
    "\n",
    "model_fit(\n",
    "        ae,\n",
    "        data.norm_data.norm_train,\n",
    "        data.norm_data.norm_train,\n",
    "        batch_size=200,\n",
    "        epochs=100,\n",
    "        verbose=1,\n",
    "        callbacks=callbacks,\n",
    ")"
   ]
  },
  {
   "cell_type": "code",
   "execution_count": null,
   "metadata": {},
   "outputs": [],
   "source": []
  }
 ],
 "metadata": {
  "kernelspec": {
   "display_name": "env_tf",
   "language": "python",
   "name": "python3"
  },
  "language_info": {
   "codemirror_mode": {
    "name": "ipython",
    "version": 3
   },
   "file_extension": ".py",
   "mimetype": "text/x-python",
   "name": "python",
   "nbconvert_exporter": "python",
   "pygments_lexer": "ipython3",
   "version": "3.9.10"
  },
  "orig_nbformat": 4
 },
 "nbformat": 4,
 "nbformat_minor": 2
}
